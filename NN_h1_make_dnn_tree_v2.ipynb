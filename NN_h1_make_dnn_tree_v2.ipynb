{
 "cells": [
  {
   "cell_type": "markdown",
   "metadata": {},
   "source": [
    "## Reads in H1 DNN training and generates an output root TTree with DDN output added\n",
    "\n",
    "This version saves all of the selected branches from the input TTree that go into the pandas df, all of the derived variables, and the DNN output."
   ]
  },
  {
   "cell_type": "code",
   "execution_count": 1,
   "metadata": {},
   "outputs": [],
   "source": [
    "import time\n",
    "import numpy as np\n",
    "import pandas as pd\n",
    "import matplotlib.pyplot as plt\n",
    "import matplotlib.ticker as mticker\n",
    "from matplotlib.colors import LogNorm\n",
    "from matplotlib import rc\n",
    "from numpy import inf\n",
    "import os\n",
    "\n",
    "from os import listdir\n",
    "\n",
    "\n",
    "import uproot3\n",
    "\n",
    "import matplotlib as mpl\n",
    "\n",
    "from datetime import datetime\n",
    "import subprocess\n",
    "\n",
    "mpl.rcParams.update({'font.size': 19})\n",
    "mpl.rcParams.update({'xtick.labelsize': 18}) \n",
    "mpl.rcParams.update({'ytick.labelsize': 18}) \n",
    "mpl.rcParams.update({'text.usetex' : False})\n",
    "mpl.rcParams.update({'axes.labelsize': 18}) \n",
    "mpl.rcParams.update({'legend.frameon': False}) \n",
    "\n"
   ]
  },
  {
   "cell_type": "code",
   "execution_count": 2,
   "metadata": {},
   "outputs": [
    {
     "name": "stdout",
     "output_type": "stream",
     "text": [
      "\n",
      "\n",
      " Saving output in /data/owen/DIS-reco/h1-2021-10-14-v5f/dnn-output-h1-v2-Data.root\n",
      "\n",
      "\n"
     ]
    }
   ],
   "source": [
    "has_gpu = True\n",
    "\n",
    "\n",
    "regression_training_name = 'training_h1_reg_v4b'\n",
    "\n",
    "#data_dir = '/data/owen/DIS-reco/h1-fullsim-2021-09-27-v2a'\n",
    "#data_dir = '/data/owen/DIS-reco/h1-fullsim-2021-10-12-v4a'\n",
    "data_dir = '/data/owen/DIS-reco/h1-2021-10-14-v5f'\n",
    "\n",
    "#dataset_type = 'Rapgap'\n",
    "dataset_type = 'Data'\n",
    "\n",
    "if dataset_type == 'Rapgap' :\n",
    "    input_file = '%s/all-h1-rapgap.root' % data_dir\n",
    "\n",
    "if dataset_type == 'Data' :\n",
    "    input_file = '%s/all-h1-data.root' % data_dir\n",
    "\n",
    "\n",
    "\n",
    "\n",
    "output_root_file = '%s/dnn-output-h1-v2-%s.root' % (data_dir, dataset_type)\n",
    "\n",
    "print('\\n\\n Saving output in %s\\n\\n' % output_root_file )\n",
    "\n",
    "\n",
    "#-- for testing\n",
    "#max_events =   10000\n",
    "#max_events =   100000\n",
    "\n",
    "#-- for all events\n",
    "max_events = 1e9\n",
    "\n",
    "\n",
    "\n",
    "\n",
    "\n"
   ]
  },
  {
   "cell_type": "markdown",
   "metadata": {},
   "source": [
    "### Read in the input TTree.\n",
    "\n",
    "The input ttree variables should be fairly self explanatory from the names.\n",
    "\n",
    "The obs_x, obs_y, and obs_Q2 are arrays that contain the following calculations:\n",
    "\n",
    "0 - electron\n",
    "\n",
    "1 - E0 E Sigma\n",
    "\n",
    "2 - E0 Theta Sigma\n",
    "\n",
    "3 - DA\n",
    "\n",
    "4 - hadron\n",
    "\n",
    "5 - ISigma\n",
    "\n",
    "6 - IDA\n",
    "\n",
    "7 - Theta Sigma gamma\n",
    "\n",
    "8 - eSigma\n",
    "\n",
    "They are there for convenience to compare the DNN predictions with the standard methods.  They are not inputs to the DNN, so don't worry about them if you don't need or want them.\n"
   ]
  },
  {
   "cell_type": "code",
   "execution_count": 3,
   "metadata": {},
   "outputs": [
    {
     "name": "stdout",
     "output_type": "stream",
     "text": [
      " [0] is e\n",
      " [1] is E0ESigma\n",
      " [2] is E0ThetaSigma\n",
      " [3] is DA\n",
      " [4] is h\n",
      " [5] is ISigma\n",
      " [6] is IDA\n",
      " [7] is ThetaSigmagamma\n",
      " [8] is eSigma\n"
     ]
    }
   ],
   "source": [
    "method_names = {}\n",
    "method_names['[0]'] = 'e'\n",
    "method_names['[1]'] = 'E0ESigma'\n",
    "method_names['[2]'] = 'E0ThetaSigma'\n",
    "method_names['[3]'] = 'DA'\n",
    "method_names['[4]'] = 'h'\n",
    "method_names['[5]'] = 'ISigma'\n",
    "method_names['[6]'] = 'IDA'\n",
    "method_names['[7]'] = 'ThetaSigmagamma'\n",
    "method_names['[8]'] = 'eSigma'\n",
    "\n",
    "for m in method_names :\n",
    "    print( ' %s is %s' % (m, method_names[m]))"
   ]
  },
  {
   "cell_type": "code",
   "execution_count": 4,
   "metadata": {},
   "outputs": [
    {
     "name": "stdout",
     "output_type": "stream",
     "text": [
      "[b'Data;1']\n",
      "<TTree b'minitree' at 0x7fefd0277460>\n",
      "wgt                        (no streamer)              asdtype('>f4')\n",
      "Empz                       (no streamer)              asdtype('>f4')\n",
      "from_tlv_gen_Q2            (no streamer)              asdtype('>f4')\n",
      "from_tlv_gen_x             (no streamer)              asdtype('>f4')\n",
      "from_tlv_gen_y             (no streamer)              asdtype('>f4')\n",
      "beam_e_e                   (no streamer)              asdtype('>f4')\n",
      "beam_p_e                   (no streamer)              asdtype('>f4')\n",
      "has_isr                    (no streamer)              asdtype('int8')\n",
      "has_fsr                    (no streamer)              asdtype('int8')\n",
      "gen_e_e                    (no streamer)              asdtype('>f4')\n",
      "gen_e_pz                   (no streamer)              asdtype('>f4')\n",
      "gen_e_pt                   (no streamer)              asdtype('>f4')\n",
      "gen_e_phi                  (no streamer)              asdtype('>f4')\n",
      "gen_e_eta                  (no streamer)              asdtype('>f4')\n",
      "gen_hfs_e                  (no streamer)              asdtype('>f4')\n",
      "gen_hfs_pz                 (no streamer)              asdtype('>f4')\n",
      "gen_hfs_pt                 (no streamer)              asdtype('>f4')\n",
      "gen_hfs_phi                (no streamer)              asdtype('>f4')\n",
      "gen_hfs_eta                (no streamer)              asdtype('>f4')\n",
      "gen_dphi                   (no streamer)              asdtype('>f4')\n",
      "obs_e_e                    (no streamer)              asdtype('>f4')\n",
      "obs_e_pz                   (no streamer)              asdtype('>f4')\n",
      "obs_e_pt                   (no streamer)              asdtype('>f4')\n",
      "obs_e_phi                  (no streamer)              asdtype('>f4')\n",
      "obs_e_eta                  (no streamer)              asdtype('>f4')\n",
      "obs_hfs_e                  (no streamer)              asdtype('>f4')\n",
      "obs_hfs_pz                 (no streamer)              asdtype('>f4')\n",
      "obs_hfs_pt                 (no streamer)              asdtype('>f4')\n",
      "obs_hfs_phi                (no streamer)              asdtype('>f4')\n",
      "obs_hfs_eta                (no streamer)              asdtype('>f4')\n",
      "obs_dphi                   (no streamer)              asdtype('>f4')\n",
      "obs_x                      (no streamer)              asdtype(\"('>f4', (9,))\")\n",
      "obs_y                      (no streamer)              asdtype(\"('>f4', (9,))\")\n",
      "obs_Q2                     (no streamer)              asdtype(\"('>f4', (9,))\")\n",
      "phi_pho_closest_to_ebeam   (no streamer)              asdtype('>f4')\n",
      "eta_pho_closest_to_ebeam   (no streamer)              asdtype('>f4')\n",
      "e_pho_closest_to_ebeam     (no streamer)              asdtype('>f4')\n",
      "tower_sum_40               (no streamer)              asdtype('>f4')\n",
      "n_towers_40                (no streamer)              asdtype('>i4')\n",
      "obs_e_trk_e                (no streamer)              asdtype('>f4')\n",
      "obs_e_trk_eta              (no streamer)              asdtype('>f4')\n",
      "obs_e_trk_phi              (no streamer)              asdtype('>f4')\n",
      "\n",
      "\n",
      " Number of entries in pandas_df:  355805 \n",
      "CPU times: user 377 ms, sys: 19.3 ms, total: 396 ms\n",
      "Wall time: 392 ms\n"
     ]
    }
   ],
   "source": [
    "%%time\n",
    "\n",
    "\n",
    "ur_file = uproot3.open(input_file)\n",
    "\n",
    "print (ur_file.keys()) \n",
    "ur_tree = ur_file['%s/minitree' % dataset_type ]\n",
    "print(ur_tree)\n",
    "ur_tree.show()\n",
    "\n",
    "selected_branches = []\n",
    "\n",
    "if dataset_type == 'Rapgap' or dataset_type == 'Django' :\n",
    "    selected_branches =     [\n",
    "            'has_isr','has_fsr',\n",
    "             'tower_sum_40','n_towers_40', ''\n",
    "             'eta_pho_closest_to_ebeam','e_pho_closest_to_ebeam', 'phi_pho_closest_to_ebeam',\n",
    "             'obs_x', 'obs_y', 'obs_Q2',\n",
    "             'from_tlv_gen_Q2','from_tlv_gen_x','from_tlv_gen_y',\n",
    "             'obs_e_e','obs_e_pz','obs_e_pt','obs_e_phi',\n",
    "             'obs_hfs_e','obs_hfs_pz','obs_hfs_pt','obs_hfs_phi',\n",
    "             'obs_dphi',\n",
    "             'Empz', 'obs_e_trk_e',\n",
    "             'beam_e_e', 'beam_p_e',\n",
    "             'wgt'\n",
    "            ]\n",
    "else :\n",
    "    selected_branches =     [\n",
    "         'tower_sum_40','n_towers_40', ''\n",
    "         'eta_pho_closest_to_ebeam','e_pho_closest_to_ebeam', 'phi_pho_closest_to_ebeam',\n",
    "         'obs_x', 'obs_y', 'obs_Q2',\n",
    "         'obs_e_e','obs_e_pz','obs_e_pt','obs_e_phi',\n",
    "         'obs_hfs_e','obs_hfs_pz','obs_hfs_pt','obs_hfs_phi',\n",
    "         'obs_dphi',\n",
    "         'Empz', 'obs_e_trk_e',\n",
    "         'beam_e_e', 'beam_p_e',\n",
    "        ]\n",
    "    \n",
    "pandas_df   =  ur_tree.pandas.df( selected_branches, entrystop=max_events, flatten=True )\n",
    "\n",
    "print('\\n\\n Number of entries in pandas_df:  %d ' % pandas_df.shape[0] )"
   ]
  },
  {
   "cell_type": "markdown",
   "metadata": {},
   "source": [
    "### Add any derived variables here"
   ]
  },
  {
   "cell_type": "code",
   "execution_count": 5,
   "metadata": {},
   "outputs": [
    {
     "name": "stdout",
     "output_type": "stream",
     "text": [
      "CPU times: user 62.7 ms, sys: 30.7 ms, total: 93.4 ms\n",
      "Wall time: 65.7 ms\n"
     ]
    }
   ],
   "source": [
    "%%time\n",
    "\n",
    "pandas_df.eval( 'obs_hfs_Empz = obs_hfs_e - obs_hfs_pz', inplace=True )\n",
    "pandas_df.eval( 'obs_e_Empz = obs_e_e - obs_e_pz', inplace=True )\n",
    "\n",
    "pandas_df.eval( 'obs_event_Empz = obs_hfs_Empz + obs_e_Empz', inplace=True )\n",
    "\n",
    "pandas_df.eval( 'rot_pt1 = 0.70710678 * obs_hfs_pt - 0.70710678 * obs_e_pt', inplace=True )\n",
    "pandas_df.eval( 'rot_pt2 = 0.70710678 * obs_hfs_pt + 0.70710678 * obs_e_pt', inplace=True )\n",
    "\n",
    "pandas_df.eval( 'rot_Empz1 = 0.70710678 * obs_hfs_Empz - 0.70710678 * obs_e_Empz', inplace=True )\n",
    "pandas_df.eval( 'rot_Empz2 = 0.70710678 * obs_hfs_Empz + 0.70710678 * obs_e_Empz', inplace=True )\n",
    "\n",
    "pandas_df.eval( 'e_ecal_over_trk_ratio = tower_sum_40/obs_e_trk_e', inplace=True )\n",
    "pandas_df.eval( 'e_ecal_over_trk_ratio = (e_ecal_over_trk_ratio<4)*e_ecal_over_trk_ratio + (e_ecal_over_trk_ratio>4)*4', inplace=True )\n",
    "\n",
    "pandas_df.eval( 'dphi_pho_closest_to_ebeam = obs_e_phi - phi_pho_closest_to_ebeam', inplace=True )\n",
    "pandas_df.eval( 'dphi_pho_closest_to_ebeam = (abs(dphi_pho_closest_to_ebeam)<3.14159265)*(dphi_pho_closest_to_ebeam)+(dphi_pho_closest_to_ebeam>3.14159265)*(dphi_pho_closest_to_ebeam-2*3.14159265) + (dphi_pho_closest_to_ebeam<-3.14159265)*(dphi_pho_closest_to_ebeam+2*3.14159265)', inplace=True )\n",
    "pandas_df.eval( 'dphi_pho_closest_to_ebeam = (dphi_pho_closest_to_ebeam>0)*dphi_pho_closest_to_ebeam + (dphi_pho_closest_to_ebeam<0)*(dphi_pho_closest_to_ebeam+2*3.14159265)', inplace=True )\n",
    "pandas_df.eval( 'dphi_pho_closest_to_ebeam = (phi_pho_closest_to_ebeam!=0)*(dphi_pho_closest_to_ebeam)+(phi_pho_closest_to_ebeam==0)*(-1)', inplace=True )\n",
    "\n",
    "pandas_df.eval( 'e_pho_closest_to_ebeam = (e_pho_closest_to_ebeam<30)*e_pho_closest_to_ebeam + (e_pho_closest_to_ebeam>30)*30', inplace=True )\n",
    "\n",
    "pandas_df.eval( 'n_towers_40 = (n_towers_40<7)*n_towers_40 + (n_towers_40>=7)*7', inplace=True  )\n"
   ]
  },
  {
   "cell_type": "code",
   "execution_count": 6,
   "metadata": {},
   "outputs": [
    {
     "name": "stdout",
     "output_type": "stream",
     "text": [
      "CPU times: user 7.08 ms, sys: 14.5 ms, total: 21.6 ms\n",
      "Wall time: 10.8 ms\n"
     ]
    }
   ],
   "source": [
    "%%time\n",
    "\n",
    "    \n",
    "\n",
    "pandas_df.eval( 'obs_ptbal = 1. - obs_e_pt / obs_hfs_pt', inplace=True )\n",
    "pandas_df.eval( 'obs_pzbal = 1. - (obs_hfs_Empz + obs_e_Empz)/2./beam_e_e', inplace=True )\n",
    "\n",
    "\n",
    "\n",
    "\n",
    "pandas_df.eval( 'obs_hfs_theta = arctan2(obs_hfs_pt,obs_hfs_pz)', inplace=True )\n"
   ]
  },
  {
   "cell_type": "markdown",
   "metadata": {},
   "source": [
    "## Apply any event selection here."
   ]
  },
  {
   "cell_type": "code",
   "execution_count": 7,
   "metadata": {},
   "outputs": [
    {
     "name": "stdout",
     "output_type": "stream",
     "text": [
      "\n",
      "\n",
      " Number of entries in pandas_df before selection :  355805 \n",
      "\n",
      "\n",
      " Number of entries in pandas_df after selection:  334093 \n",
      "CPU times: user 72.9 ms, sys: 36.3 ms, total: 109 ms\n",
      "Wall time: 106 ms\n"
     ]
    }
   ],
   "source": [
    "%%time\n",
    "\n",
    "print('\\n\\n Number of entries in pandas_df before selection :  %d ' % pandas_df.shape[0] )\n",
    "\n",
    "\n",
    "pandas_df = pandas_df.query('Empz > 0')\n",
    "\n",
    "\n",
    "pandas_df = pandas_df.query('obs_event_Empz > 46 and obs_event_Empz < 62')\n",
    "\n",
    "if dataset_type == 'Rapgap' or dataset_type == 'Django' :\n",
    "    pandas_df = pandas_df.query('from_tlv_gen_Q2 > 200')\n",
    "\n",
    "pandas_df = pandas_df.query('obs_hfs_pt > 0')\n",
    "\n",
    "pandas_df = pandas_df.query('e_ecal_over_trk_ratio > 0')\n",
    "\n",
    "print('\\n\\n Number of entries in pandas_df after selection:  %d ' % pandas_df.shape[0] )\n",
    "\n",
    "\n",
    "\n"
   ]
  },
  {
   "cell_type": "markdown",
   "metadata": {},
   "source": [
    "## Set up machine learning stuff"
   ]
  },
  {
   "cell_type": "code",
   "execution_count": 8,
   "metadata": {},
   "outputs": [
    {
     "name": "stdout",
     "output_type": "stream",
     "text": [
      "[PhysicalDevice(name='/physical_device:CPU:0', device_type='CPU'), PhysicalDevice(name='/physical_device:GPU:0', device_type='GPU')]\n"
     ]
    }
   ],
   "source": [
    "import tensorflow as tf\n",
    "from tensorflow.keras.layers import Input, Dense, Dropout\n",
    "from tensorflow.keras.models import Model, Sequential\n",
    "from sklearn.model_selection import train_test_split\n",
    "from sklearn.preprocessing import StandardScaler\n",
    "\n",
    "from pickle import load\n",
    "\n",
    "#-- Ben suggested to try this.  2021-08-07\n",
    "from tensorflow.keras.callbacks import EarlyStopping\n",
    "earlystopping = EarlyStopping(patience=10,\n",
    "               verbose=True,\n",
    "               restore_best_weights=True)\n",
    "\n",
    "import os\n",
    "\n",
    "print(tf.config.list_physical_devices())\n",
    "\n",
    "if has_gpu :\n",
    "    os.environ['CUDA_VISIBLE_DEVICES']=\"0\"\n",
    "    physical_devices = tf.config.list_physical_devices('GPU') \n",
    "    tf.config.experimental.set_memory_growth(physical_devices[0], True)\n",
    "\n",
    "#####physical_devices = tf.config.list_physical_devices('CPU')"
   ]
  },
  {
   "cell_type": "markdown",
   "metadata": {},
   "source": [
    "### Load the inputs for the DNN and transform them.   Don't change anything here!"
   ]
  },
  {
   "cell_type": "code",
   "execution_count": 9,
   "metadata": {},
   "outputs": [],
   "source": [
    "\n",
    "X = np.c_[\n",
    "    pandas_df['e_ecal_over_trk_ratio'].to_numpy(),\n",
    "    pandas_df['n_towers_40'].to_numpy(),\n",
    "    pandas_df['eta_pho_closest_to_ebeam'].to_numpy(),\n",
    "    pandas_df['e_pho_closest_to_ebeam'].to_numpy(),\n",
    "    pandas_df['dphi_pho_closest_to_ebeam'].to_numpy(),\n",
    "    pandas_df['obs_e_pz'].to_numpy(),\n",
    "    pandas_df['obs_e_e'].to_numpy(),\n",
    "    pandas_df['obs_hfs_pz'].to_numpy(),\n",
    "    pandas_df['obs_hfs_e'].to_numpy(),\n",
    "    pandas_df['rot_pt1'].to_numpy(),\n",
    "    pandas_df['rot_Empz1'].to_numpy(),\n",
    "    pandas_df['rot_pt2'].to_numpy(),\n",
    "    pandas_df['obs_pzbal'].to_numpy(),\n",
    "    pandas_df['obs_ptbal'].to_numpy(),\n",
    "    pandas_df['obs_dphi'].to_numpy(),\n",
    "]\n",
    "\n",
    "\n",
    "#-- Load the scaler transformations!  These are essential when reusing the training with a different dataset.\n",
    "\n",
    "scaler = load( open('%s-scalers/input_scaler.pkl' % regression_training_name, 'rb'))\n",
    "X = scaler.transform(X)\n",
    "\n",
    "    "
   ]
  },
  {
   "cell_type": "markdown",
   "metadata": {},
   "source": [
    "## Set up the regression network"
   ]
  },
  {
   "cell_type": "code",
   "execution_count": 10,
   "metadata": {},
   "outputs": [
    {
     "name": "stdout",
     "output_type": "stream",
     "text": [
      "Model: \"sequential\"\n",
      "_________________________________________________________________\n",
      "Layer (type)                 Output Shape              Param #   \n",
      "=================================================================\n",
      "dense (Dense)                (None, 64)                1024      \n",
      "_________________________________________________________________\n",
      "dropout (Dropout)            (None, 64)                0         \n",
      "_________________________________________________________________\n",
      "dense_1 (Dense)              (None, 128)               8320      \n",
      "_________________________________________________________________\n",
      "dropout_1 (Dropout)          (None, 128)               0         \n",
      "_________________________________________________________________\n",
      "dense_2 (Dense)              (None, 512)               66048     \n",
      "_________________________________________________________________\n",
      "dropout_2 (Dropout)          (None, 512)               0         \n",
      "_________________________________________________________________\n",
      "dense_3 (Dense)              (None, 1024)              525312    \n",
      "_________________________________________________________________\n",
      "dropout_3 (Dropout)          (None, 1024)              0         \n",
      "_________________________________________________________________\n",
      "dense_4 (Dense)              (None, 512)               524800    \n",
      "_________________________________________________________________\n",
      "dropout_4 (Dropout)          (None, 512)               0         \n",
      "_________________________________________________________________\n",
      "dense_5 (Dense)              (None, 128)               65664     \n",
      "_________________________________________________________________\n",
      "dropout_5 (Dropout)          (None, 128)               0         \n",
      "_________________________________________________________________\n",
      "dense_6 (Dense)              (None, 64)                8256      \n",
      "_________________________________________________________________\n",
      "dense_7 (Dense)              (None, 3)                 195       \n",
      "=================================================================\n",
      "Total params: 1,199,619\n",
      "Trainable params: 1,199,619\n",
      "Non-trainable params: 0\n",
      "_________________________________________________________________\n"
     ]
    }
   ],
   "source": [
    "model_r = tf.keras.models.load_model('%s_regression' % regression_training_name )\n",
    "model_r.summary()\n",
    "\n"
   ]
  },
  {
   "cell_type": "code",
   "execution_count": 11,
   "metadata": {},
   "outputs": [
    {
     "name": "stdout",
     "output_type": "stream",
     "text": [
      "CPU times: user 613 ms, sys: 133 ms, total: 746 ms\n",
      "Wall time: 670 ms\n"
     ]
    }
   ],
   "source": [
    "%%time\n",
    "\n",
    "mypreds_r = model_r.predict(X,batch_size=1000)"
   ]
  },
  {
   "cell_type": "markdown",
   "metadata": {},
   "source": [
    "### Undo the variable transformations"
   ]
  },
  {
   "cell_type": "code",
   "execution_count": 12,
   "metadata": {},
   "outputs": [],
   "source": [
    "scalerY = load( open('%s-scalers/target_scaler.pkl' % regression_training_name , 'rb'))\n",
    "\n",
    "inv_trans_pred = scalerY.inverse_transform(mypreds_r)\n",
    "pred_vals = np.exp( inv_trans_pred )"
   ]
  },
  {
   "cell_type": "markdown",
   "metadata": {},
   "source": [
    "### Save the results in an output root file\n",
    "\n",
    "This saves all of the variables in the pandas_df, including the derived ones, in addition to the DNN outputs."
   ]
  },
  {
   "cell_type": "code",
   "execution_count": 13,
   "metadata": {},
   "outputs": [
    {
     "data": {
      "text/plain": [
       "Index(['tower_sum_40', 'n_towers_40', 'eta_pho_closest_to_ebeam',\n",
       "       'e_pho_closest_to_ebeam', 'phi_pho_closest_to_ebeam', 'obs_x[0]',\n",
       "       'obs_x[1]', 'obs_x[2]', 'obs_x[3]', 'obs_x[4]', 'obs_x[5]', 'obs_x[6]',\n",
       "       'obs_x[7]', 'obs_x[8]', 'obs_y[0]', 'obs_y[1]', 'obs_y[2]', 'obs_y[3]',\n",
       "       'obs_y[4]', 'obs_y[5]', 'obs_y[6]', 'obs_y[7]', 'obs_y[8]', 'obs_Q2[0]',\n",
       "       'obs_Q2[1]', 'obs_Q2[2]', 'obs_Q2[3]', 'obs_Q2[4]', 'obs_Q2[5]',\n",
       "       'obs_Q2[6]', 'obs_Q2[7]', 'obs_Q2[8]', 'obs_e_e', 'obs_e_pz',\n",
       "       'obs_e_pt', 'obs_e_phi', 'obs_hfs_e', 'obs_hfs_pz', 'obs_hfs_pt',\n",
       "       'obs_hfs_phi', 'obs_dphi', 'Empz', 'obs_e_trk_e', 'beam_e_e',\n",
       "       'beam_p_e', 'obs_hfs_Empz', 'obs_e_Empz', 'obs_event_Empz', 'rot_pt1',\n",
       "       'rot_pt2', 'rot_Empz1', 'rot_Empz2', 'e_ecal_over_trk_ratio',\n",
       "       'dphi_pho_closest_to_ebeam', 'obs_ptbal', 'obs_pzbal', 'obs_hfs_theta'],\n",
       "      dtype='object')"
      ]
     },
     "execution_count": 13,
     "metadata": {},
     "output_type": "execute_result"
    }
   ],
   "source": [
    "pandas_df.keys()"
   ]
  },
  {
   "cell_type": "markdown",
   "metadata": {},
   "source": [
    "### Add the DNN outputs to the pandas data frame"
   ]
  },
  {
   "cell_type": "code",
   "execution_count": 14,
   "metadata": {},
   "outputs": [],
   "source": [
    "pandas_df['dnn_x'] = pred_vals[:,0]\n",
    "pandas_df['dnn_y'] = pred_vals[:,2]\n",
    "pandas_df['dnn_Q2'] = pred_vals[:,1]"
   ]
  },
  {
   "cell_type": "code",
   "execution_count": 15,
   "metadata": {},
   "outputs": [
    {
     "data": {
      "text/plain": [
       "Index(['tower_sum_40', 'n_towers_40', 'eta_pho_closest_to_ebeam',\n",
       "       'e_pho_closest_to_ebeam', 'phi_pho_closest_to_ebeam', 'obs_x[0]',\n",
       "       'obs_x[1]', 'obs_x[2]', 'obs_x[3]', 'obs_x[4]', 'obs_x[5]', 'obs_x[6]',\n",
       "       'obs_x[7]', 'obs_x[8]', 'obs_y[0]', 'obs_y[1]', 'obs_y[2]', 'obs_y[3]',\n",
       "       'obs_y[4]', 'obs_y[5]', 'obs_y[6]', 'obs_y[7]', 'obs_y[8]', 'obs_Q2[0]',\n",
       "       'obs_Q2[1]', 'obs_Q2[2]', 'obs_Q2[3]', 'obs_Q2[4]', 'obs_Q2[5]',\n",
       "       'obs_Q2[6]', 'obs_Q2[7]', 'obs_Q2[8]', 'obs_e_e', 'obs_e_pz',\n",
       "       'obs_e_pt', 'obs_e_phi', 'obs_hfs_e', 'obs_hfs_pz', 'obs_hfs_pt',\n",
       "       'obs_hfs_phi', 'obs_dphi', 'Empz', 'obs_e_trk_e', 'beam_e_e',\n",
       "       'beam_p_e', 'obs_hfs_Empz', 'obs_e_Empz', 'obs_event_Empz', 'rot_pt1',\n",
       "       'rot_pt2', 'rot_Empz1', 'rot_Empz2', 'e_ecal_over_trk_ratio',\n",
       "       'dphi_pho_closest_to_ebeam', 'obs_ptbal', 'obs_pzbal', 'obs_hfs_theta',\n",
       "       'dnn_x', 'dnn_y', 'dnn_Q2'],\n",
       "      dtype='object')"
      ]
     },
     "execution_count": 15,
     "metadata": {},
     "output_type": "execute_result"
    }
   ],
   "source": [
    "pandas_df.keys()"
   ]
  },
  {
   "cell_type": "code",
   "execution_count": 16,
   "metadata": {},
   "outputs": [
    {
     "name": "stdout",
     "output_type": "stream",
     "text": [
      " key  tower_sum_40 , dict_key tower_sum_40\n",
      " dtype for tower_sum_40 is  float32\n",
      " key  n_towers_40 , dict_key n_towers_40\n",
      " dtype for n_towers_40 is  int64\n",
      " key  eta_pho_closest_to_ebeam , dict_key eta_pho_closest_to_ebeam\n",
      " dtype for eta_pho_closest_to_ebeam is  float32\n",
      " key  e_pho_closest_to_ebeam , dict_key e_pho_closest_to_ebeam\n",
      " dtype for e_pho_closest_to_ebeam is  float64\n",
      " key  phi_pho_closest_to_ebeam , dict_key phi_pho_closest_to_ebeam\n",
      " dtype for phi_pho_closest_to_ebeam is  float32\n",
      "found [0] in obs_x[0]\n",
      " key  obs_x[0] , dict_key obs_x_e\n",
      " dtype for obs_x[0] is  float32\n",
      "found [1] in obs_x[1]\n",
      " key  obs_x[1] , dict_key obs_x_E0ESigma\n",
      " dtype for obs_x[1] is  float32\n",
      "found [2] in obs_x[2]\n",
      " key  obs_x[2] , dict_key obs_x_E0ThetaSigma\n",
      " dtype for obs_x[2] is  float32\n",
      "found [3] in obs_x[3]\n",
      " key  obs_x[3] , dict_key obs_x_DA\n",
      " dtype for obs_x[3] is  float32\n",
      "found [4] in obs_x[4]\n",
      " key  obs_x[4] , dict_key obs_x_h\n",
      " dtype for obs_x[4] is  float32\n",
      "found [5] in obs_x[5]\n",
      " key  obs_x[5] , dict_key obs_x_ISigma\n",
      " dtype for obs_x[5] is  float32\n",
      "found [6] in obs_x[6]\n",
      " key  obs_x[6] , dict_key obs_x_IDA\n",
      " dtype for obs_x[6] is  float32\n",
      "found [7] in obs_x[7]\n",
      " key  obs_x[7] , dict_key obs_x_ThetaSigmagamma\n",
      " dtype for obs_x[7] is  float32\n",
      "found [8] in obs_x[8]\n",
      " key  obs_x[8] , dict_key obs_x_eSigma\n",
      " dtype for obs_x[8] is  float32\n",
      "found [0] in obs_y[0]\n",
      " key  obs_y[0] , dict_key obs_y_e\n",
      " dtype for obs_y[0] is  float32\n",
      "found [1] in obs_y[1]\n",
      " key  obs_y[1] , dict_key obs_y_E0ESigma\n",
      " dtype for obs_y[1] is  float32\n",
      "found [2] in obs_y[2]\n",
      " key  obs_y[2] , dict_key obs_y_E0ThetaSigma\n",
      " dtype for obs_y[2] is  float32\n",
      "found [3] in obs_y[3]\n",
      " key  obs_y[3] , dict_key obs_y_DA\n",
      " dtype for obs_y[3] is  float32\n",
      "found [4] in obs_y[4]\n",
      " key  obs_y[4] , dict_key obs_y_h\n",
      " dtype for obs_y[4] is  float32\n",
      "found [5] in obs_y[5]\n",
      " key  obs_y[5] , dict_key obs_y_ISigma\n",
      " dtype for obs_y[5] is  float32\n",
      "found [6] in obs_y[6]\n",
      " key  obs_y[6] , dict_key obs_y_IDA\n",
      " dtype for obs_y[6] is  float32\n",
      "found [7] in obs_y[7]\n",
      " key  obs_y[7] , dict_key obs_y_ThetaSigmagamma\n",
      " dtype for obs_y[7] is  float32\n",
      "found [8] in obs_y[8]\n",
      " key  obs_y[8] , dict_key obs_y_eSigma\n",
      " dtype for obs_y[8] is  float32\n",
      "found [0] in obs_Q2[0]\n",
      " key  obs_Q2[0] , dict_key obs_Q2_e\n",
      " dtype for obs_Q2[0] is  float32\n",
      "found [1] in obs_Q2[1]\n",
      " key  obs_Q2[1] , dict_key obs_Q2_E0ESigma\n",
      " dtype for obs_Q2[1] is  float32\n",
      "found [2] in obs_Q2[2]\n",
      " key  obs_Q2[2] , dict_key obs_Q2_E0ThetaSigma\n",
      " dtype for obs_Q2[2] is  float32\n",
      "found [3] in obs_Q2[3]\n",
      " key  obs_Q2[3] , dict_key obs_Q2_DA\n",
      " dtype for obs_Q2[3] is  float32\n",
      "found [4] in obs_Q2[4]\n",
      " key  obs_Q2[4] , dict_key obs_Q2_h\n",
      " dtype for obs_Q2[4] is  float32\n",
      "found [5] in obs_Q2[5]\n",
      " key  obs_Q2[5] , dict_key obs_Q2_ISigma\n",
      " dtype for obs_Q2[5] is  float32\n",
      "found [6] in obs_Q2[6]\n",
      " key  obs_Q2[6] , dict_key obs_Q2_IDA\n",
      " dtype for obs_Q2[6] is  float32\n",
      "found [7] in obs_Q2[7]\n",
      " key  obs_Q2[7] , dict_key obs_Q2_ThetaSigmagamma\n",
      " dtype for obs_Q2[7] is  float32\n",
      "found [8] in obs_Q2[8]\n",
      " key  obs_Q2[8] , dict_key obs_Q2_eSigma\n",
      " dtype for obs_Q2[8] is  float32\n",
      " key  obs_e_e , dict_key obs_e_e\n",
      " dtype for obs_e_e is  float32\n",
      " key  obs_e_pz , dict_key obs_e_pz\n",
      " dtype for obs_e_pz is  float32\n",
      " key  obs_e_pt , dict_key obs_e_pt\n",
      " dtype for obs_e_pt is  float32\n",
      " key  obs_e_phi , dict_key obs_e_phi\n",
      " dtype for obs_e_phi is  float32\n",
      " key  obs_hfs_e , dict_key obs_hfs_e\n",
      " dtype for obs_hfs_e is  float32\n",
      " key  obs_hfs_pz , dict_key obs_hfs_pz\n",
      " dtype for obs_hfs_pz is  float32\n",
      " key  obs_hfs_pt , dict_key obs_hfs_pt\n",
      " dtype for obs_hfs_pt is  float32\n",
      " key  obs_hfs_phi , dict_key obs_hfs_phi\n",
      " dtype for obs_hfs_phi is  float32\n",
      " key  obs_dphi , dict_key obs_dphi\n",
      " dtype for obs_dphi is  float32\n",
      " key  Empz , dict_key Empz\n",
      " dtype for Empz is  float32\n",
      " key  obs_e_trk_e , dict_key obs_e_trk_e\n",
      " dtype for obs_e_trk_e is  float32\n",
      " key  beam_e_e , dict_key beam_e_e\n",
      " dtype for beam_e_e is  float32\n",
      " key  beam_p_e , dict_key beam_p_e\n",
      " dtype for beam_p_e is  float32\n",
      " key  obs_hfs_Empz , dict_key obs_hfs_Empz\n",
      " dtype for obs_hfs_Empz is  float32\n",
      " key  obs_e_Empz , dict_key obs_e_Empz\n",
      " dtype for obs_e_Empz is  float32\n",
      " key  obs_event_Empz , dict_key obs_event_Empz\n",
      " dtype for obs_event_Empz is  float32\n",
      " key  rot_pt1 , dict_key rot_pt1\n",
      " dtype for rot_pt1 is  float32\n",
      " key  rot_pt2 , dict_key rot_pt2\n",
      " dtype for rot_pt2 is  float32\n",
      " key  rot_Empz1 , dict_key rot_Empz1\n",
      " dtype for rot_Empz1 is  float32\n",
      " key  rot_Empz2 , dict_key rot_Empz2\n",
      " dtype for rot_Empz2 is  float32\n",
      " key  e_ecal_over_trk_ratio , dict_key e_ecal_over_trk_ratio\n",
      " dtype for e_ecal_over_trk_ratio is  float64\n",
      " key  dphi_pho_closest_to_ebeam , dict_key dphi_pho_closest_to_ebeam\n",
      " dtype for dphi_pho_closest_to_ebeam is  float64\n",
      " key  obs_ptbal , dict_key obs_ptbal\n",
      " dtype for obs_ptbal is  float32\n",
      " key  obs_pzbal , dict_key obs_pzbal\n",
      " dtype for obs_pzbal is  float32\n",
      " key  obs_hfs_theta , dict_key obs_hfs_theta\n",
      " dtype for obs_hfs_theta is  float32\n",
      " key  dnn_x , dict_key dnn_x\n",
      " dtype for dnn_x is  float32\n",
      " key  dnn_y , dict_key dnn_y\n",
      " dtype for dnn_y is  float32\n",
      " key  dnn_Q2 , dict_key dnn_Q2\n",
      " dtype for dnn_Q2 is  float32\n"
     ]
    }
   ],
   "source": [
    "branch_dict = {}\n",
    "data_dict = {}\n",
    "\n",
    "for k in pandas_df.keys() :\n",
    "    dict_key = k\n",
    "    for m in method_names :\n",
    "        if m in k :\n",
    "            print( 'found %s in %s' % (m, k))\n",
    "            dict_key = k.replace( m, '_%s' % method_names[m])\n",
    "    dict_key = dict_key.replace('[','').replace(']','')  # in case not in method_names\n",
    "    print( ' key  %s , dict_key %s' % (k, dict_key) )\n",
    "    print( ' dtype for %s is ' % k, pandas_df[k].dtype)\n",
    "    branch_dict[dict_key] = pandas_df[k].dtype\n",
    "    data_dict[dict_key] = pandas_df[k].to_numpy()\n",
    "    \n",
    "    "
   ]
  },
  {
   "cell_type": "code",
   "execution_count": 17,
   "metadata": {},
   "outputs": [
    {
     "data": {
      "text/plain": [
       "{'tower_sum_40': dtype('float32'),\n",
       " 'n_towers_40': dtype('int64'),\n",
       " 'eta_pho_closest_to_ebeam': dtype('float32'),\n",
       " 'e_pho_closest_to_ebeam': dtype('float64'),\n",
       " 'phi_pho_closest_to_ebeam': dtype('float32'),\n",
       " 'obs_x_e': dtype('float32'),\n",
       " 'obs_x_E0ESigma': dtype('float32'),\n",
       " 'obs_x_E0ThetaSigma': dtype('float32'),\n",
       " 'obs_x_DA': dtype('float32'),\n",
       " 'obs_x_h': dtype('float32'),\n",
       " 'obs_x_ISigma': dtype('float32'),\n",
       " 'obs_x_IDA': dtype('float32'),\n",
       " 'obs_x_ThetaSigmagamma': dtype('float32'),\n",
       " 'obs_x_eSigma': dtype('float32'),\n",
       " 'obs_y_e': dtype('float32'),\n",
       " 'obs_y_E0ESigma': dtype('float32'),\n",
       " 'obs_y_E0ThetaSigma': dtype('float32'),\n",
       " 'obs_y_DA': dtype('float32'),\n",
       " 'obs_y_h': dtype('float32'),\n",
       " 'obs_y_ISigma': dtype('float32'),\n",
       " 'obs_y_IDA': dtype('float32'),\n",
       " 'obs_y_ThetaSigmagamma': dtype('float32'),\n",
       " 'obs_y_eSigma': dtype('float32'),\n",
       " 'obs_Q2_e': dtype('float32'),\n",
       " 'obs_Q2_E0ESigma': dtype('float32'),\n",
       " 'obs_Q2_E0ThetaSigma': dtype('float32'),\n",
       " 'obs_Q2_DA': dtype('float32'),\n",
       " 'obs_Q2_h': dtype('float32'),\n",
       " 'obs_Q2_ISigma': dtype('float32'),\n",
       " 'obs_Q2_IDA': dtype('float32'),\n",
       " 'obs_Q2_ThetaSigmagamma': dtype('float32'),\n",
       " 'obs_Q2_eSigma': dtype('float32'),\n",
       " 'obs_e_e': dtype('float32'),\n",
       " 'obs_e_pz': dtype('float32'),\n",
       " 'obs_e_pt': dtype('float32'),\n",
       " 'obs_e_phi': dtype('float32'),\n",
       " 'obs_hfs_e': dtype('float32'),\n",
       " 'obs_hfs_pz': dtype('float32'),\n",
       " 'obs_hfs_pt': dtype('float32'),\n",
       " 'obs_hfs_phi': dtype('float32'),\n",
       " 'obs_dphi': dtype('float32'),\n",
       " 'Empz': dtype('float32'),\n",
       " 'obs_e_trk_e': dtype('float32'),\n",
       " 'beam_e_e': dtype('float32'),\n",
       " 'beam_p_e': dtype('float32'),\n",
       " 'obs_hfs_Empz': dtype('float32'),\n",
       " 'obs_e_Empz': dtype('float32'),\n",
       " 'obs_event_Empz': dtype('float32'),\n",
       " 'rot_pt1': dtype('float32'),\n",
       " 'rot_pt2': dtype('float32'),\n",
       " 'rot_Empz1': dtype('float32'),\n",
       " 'rot_Empz2': dtype('float32'),\n",
       " 'e_ecal_over_trk_ratio': dtype('float64'),\n",
       " 'dphi_pho_closest_to_ebeam': dtype('float64'),\n",
       " 'obs_ptbal': dtype('float32'),\n",
       " 'obs_pzbal': dtype('float32'),\n",
       " 'obs_hfs_theta': dtype('float32'),\n",
       " 'dnn_x': dtype('float32'),\n",
       " 'dnn_y': dtype('float32'),\n",
       " 'dnn_Q2': dtype('float32')}"
      ]
     },
     "execution_count": 17,
     "metadata": {},
     "output_type": "execute_result"
    }
   ],
   "source": [
    "branch_dict"
   ]
  },
  {
   "cell_type": "code",
   "execution_count": 18,
   "metadata": {},
   "outputs": [
    {
     "name": "stdout",
     "output_type": "stream",
     "text": [
      "CPU times: user 2.13 s, sys: 38.3 ms, total: 2.16 s\n",
      "Wall time: 2.16 s\n"
     ]
    }
   ],
   "source": [
    "%%time\n",
    "\n",
    "root_file3 = uproot3.recreate( output_root_file )\n",
    "\n",
    "root_file3['dnnout'] = uproot3.newtree( branch_dict )\n",
    "\n",
    "root_file3['dnnout'].extend( data_dict )"
   ]
  },
  {
   "cell_type": "code",
   "execution_count": null,
   "metadata": {},
   "outputs": [],
   "source": []
  }
 ],
 "metadata": {
  "kernelspec": {
   "display_name": "Python 3",
   "language": "python",
   "name": "python3"
  },
  "language_info": {
   "codemirror_mode": {
    "name": "ipython",
    "version": 3
   },
   "file_extension": ".py",
   "mimetype": "text/x-python",
   "name": "python",
   "nbconvert_exporter": "python",
   "pygments_lexer": "ipython3",
   "version": "3.8.10"
  }
 },
 "nbformat": 4,
 "nbformat_minor": 4
}
